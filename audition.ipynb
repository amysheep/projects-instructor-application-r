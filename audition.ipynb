{
 "cells": [
  {
   "cell_type": "markdown",
   "metadata": {
    "collapsed": true
   },
   "source": [
    "Welcome to your DataCamp project audition! This notebook must be filled out and vetted before a contract can be signed and you can start creating your project.\n",
    "\n",
    "The first step is forking the repository in which this notebook lives. After that, there are two parts to be completed in this notebook:\n",
    "\n",
    "- **Project information**:  The title of the project, a project description, etc.\n",
    "\n",
    "- **Project introduction**: The three first text and code cells that will form the introduction of your project.\n",
    "\n",
    "When complete, please email the link to your forked repo to projects@datacamp.com with the email subject line _DataCamp project audition_. If you have any questions, please reach out to projects@datacamp.com."
   ]
  },
  {
   "cell_type": "markdown",
   "metadata": {},
   "source": [
    "# Project information"
   ]
  },
  {
   "cell_type": "markdown",
   "metadata": {},
   "source": [
    "**Project title**: Simpson's Paradox - Kidney stone treatment A vs. B\n",
    "\n",
    "**Name:** Amy Yang\n",
    "\n",
    "**Email address associated with your DataCamp account:** yangy.ustc@gmail.com\n",
    "\n",
    "\n",
    "**Project description**: \n",
    "\n",
    "Simpson's paradox is an interesting phenomenon in statistics, in which a trend appears in several different groups of data but disappears or reverses when these groups are combined. In this project, we will examine a real-life  Simpson's paradox example from a medical study comparing the success rates of two treatments for kidney stones. We will identify the 'lurking' variable that causes the confusion and using multiple logistic regression to solve the puzzle!\n",
    "\n",
    "You will apply the skills you learned in Multiple and Logistic Regression, along with content from Introduction to the Tidyverse and Data Manipulation in R with dplyr.\n",
    "\n",
    "This project uses simplified dataset from the original study published [here](https://www.ncbi.nlm.nih.gov/pmc/articles/PMC1339981/)."
   ]
  },
  {
   "cell_type": "markdown",
   "metadata": {},
   "source": [
    "# Project introduction\n",
    "\n",
    "***Note: nothing needs to be filled out in this cell. It is simply setting up the template cells below.***\n",
    "\n",
    "The final output of a DataCamp project looks like a blog post: pairs of text and code cells that tell a story about data. The text is written from the perspective of the data analyst and *not* from the perspective of an instructor on DataCamp. So, for this blog post intro, all you need to do is pretend like you're writing a blog post -- forget the part about instructors and students.\n",
    "\n",
    "Below you'll see the structure of a DataCamp project: a series of \"tasks\" where each task consists of a title, a **single** text cell, and a **single** code cell. There are 8-12 tasks in a project and each task can have up to 10 lines of code. What you need to do:\n",
    "1. Read through the template structure.\n",
    "2. As best you can, divide your project as it is currently visualized in your mind into tasks.\n",
    "3. Fill out the template structure for the first three tasks of your project.\n",
    "\n",
    "As you are completing each task, you may wish to consult the project notebook format in our [documentation](https://instructor-support.datacamp.com/projects/datacamp-projects-jupyter-notebook). Only the `@context` and `@solution` cells are relevant to this audition."
   ]
  },
  {
   "cell_type": "markdown",
   "metadata": {},
   "source": [
    "## 1. A new look of an old research study"
   ]
  },
  {
   "cell_type": "markdown",
   "metadata": {},
   "source": [
    "In the year of 1986, a group of urologists in London published a research paper in the British Medical Journal to compare two different methods in their effectiveness of removing kidney stones. Treatment A is open surgery (invasive) and treatment B is percutaneous nephrolithotomy (less invasive). When they looked at the results from the total of 700 patients, treatment B had a higher success rate. However, when they only look at the sub grouped data for patients with small kidney stones or large kidney stones, treatment A had better outcomes. What is going on here? In this notebook, we are going to solve the puzzle by using multiple regression and other statistical tools. Let's dive in now!\n",
    "<img src=\"img/img1.jpg\" height=\"500\" width=\"500\">"
   ]
  },
  {
   "cell_type": "code",
   "execution_count": 10,
   "metadata": {},
   "outputs": [
    {
     "name": "stderr",
     "output_type": "stream",
     "text": [
      "Parsed with column specification:\n",
      "cols(\n",
      "  treatment = col_character(),\n",
      "  stone_size = col_character(),\n",
      "  success = col_double()\n",
      ")\n"
     ]
    },
    {
     "data": {
      "text/html": [
       "<table>\n",
       "<thead><tr><th scope=col>treatment</th><th scope=col>stone_size</th><th scope=col>success</th></tr></thead>\n",
       "<tbody>\n",
       "\t<tr><td>B    </td><td>large</td><td>1    </td></tr>\n",
       "\t<tr><td>A    </td><td>large</td><td>1    </td></tr>\n",
       "\t<tr><td>A    </td><td>large</td><td>0    </td></tr>\n",
       "\t<tr><td>A    </td><td>large</td><td>1    </td></tr>\n",
       "\t<tr><td>A    </td><td>large</td><td>1    </td></tr>\n",
       "\t<tr><td>B    </td><td>large</td><td>1    </td></tr>\n",
       "</tbody>\n",
       "</table>\n"
      ],
      "text/latex": [
       "\\begin{tabular}{r|lll}\n",
       " treatment & stone\\_size & success\\\\\n",
       "\\hline\n",
       "\t B     & large & 1    \\\\\n",
       "\t A     & large & 1    \\\\\n",
       "\t A     & large & 0    \\\\\n",
       "\t A     & large & 1    \\\\\n",
       "\t A     & large & 1    \\\\\n",
       "\t B     & large & 1    \\\\\n",
       "\\end{tabular}\n"
      ],
      "text/markdown": [
       "\n",
       "| treatment | stone_size | success |\n",
       "|---|---|---|\n",
       "| B     | large | 1     |\n",
       "| A     | large | 1     |\n",
       "| A     | large | 0     |\n",
       "| A     | large | 1     |\n",
       "| A     | large | 1     |\n",
       "| B     | large | 1     |\n",
       "\n"
      ],
      "text/plain": [
       "  treatment stone_size success\n",
       "1 B         large      1      \n",
       "2 A         large      1      \n",
       "3 A         large      0      \n",
       "4 A         large      1      \n",
       "5 A         large      1      \n",
       "6 B         large      1      "
      ]
     },
     "metadata": {},
     "output_type": "display_data"
    }
   ],
   "source": [
    "# load the tidyverse package\n",
    "library(tidyverse)\n",
    "\n",
    "# Read datasets kidney_stone_data.csv into hd_data\n",
    "data <- read_csv(\"datasets/kidney_stone_data.csv\")\n",
    "\n",
    "# take a look at the first five rows of the dataset\n",
    "head(data)"
   ]
  },
  {
   "cell_type": "markdown",
   "metadata": {},
   "source": [
    "## 2. Recreate the Treatment X Success summary table"
   ]
  },
  {
   "cell_type": "markdown",
   "metadata": {},
   "source": [
    "The data contains three columns; treatment (A or B), stone_size (large or small) and success (0 or 1).\n",
    "To start, we want to know overall which treatment had higher success rate regardless of stone size. Let's create a table with number of success and frequency by each treatment using the tidyverse syntax."
   ]
  },
  {
   "cell_type": "code",
   "execution_count": 16,
   "metadata": {},
   "outputs": [
    {
     "data": {
      "text/html": [
       "<table>\n",
       "<thead><tr><th scope=col>treatment</th><th scope=col>success</th><th scope=col>N</th><th scope=col>Freq</th></tr></thead>\n",
       "<tbody>\n",
       "\t<tr><td>A        </td><td>0        </td><td> 77      </td><td>0.2200000</td></tr>\n",
       "\t<tr><td>A        </td><td>1        </td><td>273      </td><td>0.7800000</td></tr>\n",
       "\t<tr><td>B        </td><td>0        </td><td> 61      </td><td>0.1742857</td></tr>\n",
       "\t<tr><td>B        </td><td>1        </td><td>289      </td><td>0.8257143</td></tr>\n",
       "</tbody>\n",
       "</table>\n"
      ],
      "text/latex": [
       "\\begin{tabular}{r|llll}\n",
       " treatment & success & N & Freq\\\\\n",
       "\\hline\n",
       "\t A         & 0         &  77       & 0.2200000\\\\\n",
       "\t A         & 1         & 273       & 0.7800000\\\\\n",
       "\t B         & 0         &  61       & 0.1742857\\\\\n",
       "\t B         & 1         & 289       & 0.8257143\\\\\n",
       "\\end{tabular}\n"
      ],
      "text/markdown": [
       "\n",
       "| treatment | success | N | Freq |\n",
       "|---|---|---|---|\n",
       "| A         | 0         |  77       | 0.2200000 |\n",
       "| A         | 1         | 273       | 0.7800000 |\n",
       "| B         | 0         |  61       | 0.1742857 |\n",
       "| B         | 1         | 289       | 0.8257143 |\n",
       "\n"
      ],
      "text/plain": [
       "  treatment success N   Freq     \n",
       "1 A         0        77 0.2200000\n",
       "2 A         1       273 0.7800000\n",
       "3 B         0        61 0.1742857\n",
       "4 B         1       289 0.8257143"
      ]
     },
     "metadata": {},
     "output_type": "display_data"
    }
   ],
   "source": [
    "# use the %>% to link three steps together\n",
    "# 1. group by treatment and success \n",
    "# 2. calculate the total number of patients in each treatmentXsuccess combination using summarise function\n",
    "# 3. create the frequency using mutate function\n",
    "\n",
    "data %>% group_by(treatment, success) %>%summarise(N = n()) %>%mutate(Freq = N/sum(N))"
   ]
  },
  {
   "cell_type": "markdown",
   "metadata": {},
   "source": [
    "## 3. Bringing stone size into the picture "
   ]
  },
  {
   "cell_type": "markdown",
   "metadata": {},
   "source": [
    "From the treatment and success rate descriptive table, we saw that treatment B performed better on average compared to treatment A (82% vs 78% success rate). Now, let's consider the stone size factor and see what we will find. In this task, you are going to further devide the data into small vs large stone subcategories and compute the same success count and rate by treatment like we did in the previous task. The final table will be treatment X stone size X success."
   ]
  },
  {
   "cell_type": "code",
   "execution_count": 17,
   "metadata": {},
   "outputs": [
    {
     "data": {
      "text/html": [
       "<table>\n",
       "<thead><tr><th scope=col>treatment</th><th scope=col>stone_size</th><th scope=col>success</th><th scope=col>N</th><th scope=col>Freq</th></tr></thead>\n",
       "<tbody>\n",
       "\t<tr><td>A         </td><td>large     </td><td>0         </td><td> 71       </td><td>0.26996198</td></tr>\n",
       "\t<tr><td>A         </td><td>large     </td><td>1         </td><td>192       </td><td>0.73003802</td></tr>\n",
       "\t<tr><td>A         </td><td>small     </td><td>0         </td><td>  6       </td><td>0.06896552</td></tr>\n",
       "\t<tr><td>A         </td><td>small     </td><td>1         </td><td> 81       </td><td>0.93103448</td></tr>\n",
       "\t<tr><td>B         </td><td>large     </td><td>0         </td><td> 25       </td><td>0.31250000</td></tr>\n",
       "\t<tr><td>B         </td><td>large     </td><td>1         </td><td> 55       </td><td>0.68750000</td></tr>\n",
       "\t<tr><td>B         </td><td>small     </td><td>0         </td><td> 36       </td><td>0.13333333</td></tr>\n",
       "\t<tr><td>B         </td><td>small     </td><td>1         </td><td>234       </td><td>0.86666667</td></tr>\n",
       "</tbody>\n",
       "</table>\n"
      ],
      "text/latex": [
       "\\begin{tabular}{r|lllll}\n",
       " treatment & stone\\_size & success & N & Freq\\\\\n",
       "\\hline\n",
       "\t A          & large      & 0          &  71        & 0.26996198\\\\\n",
       "\t A          & large      & 1          & 192        & 0.73003802\\\\\n",
       "\t A          & small      & 0          &   6        & 0.06896552\\\\\n",
       "\t A          & small      & 1          &  81        & 0.93103448\\\\\n",
       "\t B          & large      & 0          &  25        & 0.31250000\\\\\n",
       "\t B          & large      & 1          &  55        & 0.68750000\\\\\n",
       "\t B          & small      & 0          &  36        & 0.13333333\\\\\n",
       "\t B          & small      & 1          & 234        & 0.86666667\\\\\n",
       "\\end{tabular}\n"
      ],
      "text/markdown": [
       "\n",
       "| treatment | stone_size | success | N | Freq |\n",
       "|---|---|---|---|---|\n",
       "| A          | large      | 0          |  71        | 0.26996198 |\n",
       "| A          | large      | 1          | 192        | 0.73003802 |\n",
       "| A          | small      | 0          |   6        | 0.06896552 |\n",
       "| A          | small      | 1          |  81        | 0.93103448 |\n",
       "| B          | large      | 0          |  25        | 0.31250000 |\n",
       "| B          | large      | 1          |  55        | 0.68750000 |\n",
       "| B          | small      | 0          |  36        | 0.13333333 |\n",
       "| B          | small      | 1          | 234        | 0.86666667 |\n",
       "\n"
      ],
      "text/plain": [
       "  treatment stone_size success N   Freq      \n",
       "1 A         large      0        71 0.26996198\n",
       "2 A         large      1       192 0.73003802\n",
       "3 A         small      0         6 0.06896552\n",
       "4 A         small      1        81 0.93103448\n",
       "5 B         large      0        25 0.31250000\n",
       "6 B         large      1        55 0.68750000\n",
       "7 B         small      0        36 0.13333333\n",
       "8 B         small      1       234 0.86666667"
      ]
     },
     "metadata": {},
     "output_type": "display_data"
    }
   ],
   "source": [
    "# we can achieve this goal by simply add stone size into the group_by variable list\n",
    "\n",
    "data %>% group_by(treatment, stone_size, success) %>%summarise(N = n()) %>%mutate(Freq = N/sum(N))"
   ]
  },
  {
   "cell_type": "markdown",
   "metadata": {},
   "source": [
    "*Stop here! Only the three first tasks. :)*"
   ]
  }
 ],
 "metadata": {
  "kernelspec": {
   "display_name": "R",
   "language": "R",
   "name": "ir"
  },
  "language_info": {
   "codemirror_mode": "r",
   "file_extension": ".r",
   "mimetype": "text/x-r-source",
   "name": "R",
   "pygments_lexer": "r",
   "version": "3.5.2"
  }
 },
 "nbformat": 4,
 "nbformat_minor": 2
}
